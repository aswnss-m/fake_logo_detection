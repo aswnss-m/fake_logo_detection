{
 "cells": [
  {
   "cell_type": "code",
   "execution_count": 28,
   "metadata": {},
   "outputs": [],
   "source": [
    "from selenium import webdriver\n",
    "from selenium.webdriver.common.by import By\n",
    "import urllib.request\n",
    "import os\n",
    "from selenium.webdriver.support.ui import WebDriverWait\n",
    "from selenium.webdriver.support import expected_conditions as EC\n",
    "import time"
   ]
  },
  {
   "cell_type": "code",
   "execution_count": 3,
   "metadata": {},
   "outputs": [],
   "source": [
    "url = \"https://branddb.wipo.int/en/explore/results\"\n",
    "directory = \"./webscrapped\"\n"
   ]
  },
  {
   "cell_type": "code",
   "execution_count": 45,
   "metadata": {},
   "outputs": [
    {
     "data": {
      "text/plain": [
       "<selenium.webdriver.remote.webelement.WebElement (session=\"ab205431c111a5e3ef77470ee505e62d\", element=\"4bd47287-467b-4af9-a445-b030db09f509\")>"
      ]
     },
     "execution_count": 45,
     "metadata": {},
     "output_type": "execute_result"
    }
   ],
   "source": [
    "driver = webdriver.Chrome()\n",
    "driver.get(url)\n",
    "wait = WebDriverWait(driver, 10)\n",
    "wait.until(EC.presence_of_element_located((By.CLASS_NAME,'page-results')))"
   ]
  },
  {
   "cell_type": "code",
   "execution_count": 13,
   "metadata": {},
   "outputs": [
    {
     "name": "stdout",
     "output_type": "stream",
     "text": [
      "<class 'selenium.webdriver.remote.webelement.WebElement'>\n"
     ]
    }
   ],
   "source": [
    "cards = driver.find_elements(By.CLASS_NAME,'nameAndLogo')\n",
    "print(type(cards[0]))"
   ]
  },
  {
   "cell_type": "code",
   "execution_count": 14,
   "metadata": {},
   "outputs": [
    {
     "name": "stdout",
     "output_type": "stream",
     "text": [
      "https://images.branddb.wipo.int/brands/natm/NA5019990000T1571/1AC71CA5-th.jpg\n",
      "https://images.branddb.wipo.int/brands/ghtm/GH501955000000026/12D27813-th.jpg\n",
      "https://images.branddb.wipo.int/brands/ghtm/GH501948000000099/9AE91BF3-th.jpg\n"
     ]
    }
   ],
   "source": [
    "for i,card in enumerate(cards):\n",
    "    image = card.find_element(By.TAG_NAME,'img')\n",
    "    image_url = image.get_attribute('src')\n",
    "    if image_url[-3::]=='jpg':\n",
    "        print(image_url)\n",
    "        filename = os.path.join(directory, f\"image_{i}.jpg\")\n",
    "        urllib.request.urlretrieve(image_url, filename)"
   ]
  },
  {
   "cell_type": "code",
   "execution_count": 51,
   "metadata": {},
   "outputs": [
    {
     "data": {
      "text/plain": [
       "'NA5019990000T1571'"
      ]
     },
     "execution_count": 51,
     "metadata": {},
     "output_type": "execute_result"
    }
   ],
   "source": [
    "a = \"https://images.branddb.wipo.int/brands/natm/NA5019990000T1571/1AC71CA5-th.jpg\"\n",
    "a.strip().split('/')[-2]"
   ]
  },
  {
   "cell_type": "code",
   "execution_count": 52,
   "metadata": {},
   "outputs": [],
   "source": [
    "result = driver.find_elements(By.CLASS_NAME,'page-results')[0]\n",
    "urls = []\n",
    "for i in range(6):\n",
    "    wait.until(EC.presence_of_element_located((By.TAG_NAME, \"img\")))\n",
    "    cards = result.find_elements(By.CLASS_NAME,'nameAndLogo')\n",
    "    for i,card in enumerate(cards):\n",
    "        image = card.find_element(By.TAG_NAME,'img')\n",
    "\n",
    "        image_url = image.get_attribute('src')\n",
    "\n",
    "        if image_url[-3::]=='jpg':\n",
    "            try:\n",
    "                name = card.find_element(By.CLASS_NAME,'name').text\n",
    "            except:\n",
    "                pass\n",
    "            if name == \"\":\n",
    "                name = image_url.strip().split('/')[-2]\n",
    "            urls.append((name,image_url))\n",
    "            # filename = os.path.join(directory, f\"{i}.jpg\")\n",
    "            # urllib.request.urlretrieve(image_url, filename)\n",
    "\n",
    "    driver.execute_script(\"arguments[0].scrollBy(0, 495)\", result)\n",
    "for i,brand in enumerate(urls):\n",
    "    filename = os.path.join(directory, f\"{brand[0]}.jpg\")\n",
    "    urllib.request.urlretrieve(brand[1], filename)"
   ]
  },
  {
   "cell_type": "code",
   "execution_count": 6,
   "metadata": {},
   "outputs": [
    {
     "ename": "StaleElementReferenceException",
     "evalue": "Message: stale element reference: element is not attached to the page document\n  (Session info: chrome=111.0.5563.65)\nStacktrace:\nBacktrace:\n\t(No symbol) [0x00D4DCE3]\n\t(No symbol) [0x00CE39D1]\n\t(No symbol) [0x00BF4DA8]\n\t(No symbol) [0x00BF76FB]\n\t(No symbol) [0x00BF75D0]\n\t(No symbol) [0x00BF7EB0]\n\t(No symbol) [0x00C4DEED]\n\t(No symbol) [0x00C3AECC]\n\t(No symbol) [0x00C4D57C]\n\t(No symbol) [0x00C3ACC6]\n\t(No symbol) [0x00C16F68]\n\t(No symbol) [0x00C180CD]\n\tGetHandleVerifier [0x00FC3832+2506274]\n\tGetHandleVerifier [0x00FF9794+2727300]\n\tGetHandleVerifier [0x00FFE36C+2746716]\n\tGetHandleVerifier [0x00DF6690+617600]\n\t(No symbol) [0x00CEC712]\n\t(No symbol) [0x00CF1FF8]\n\t(No symbol) [0x00CF20DB]\n\t(No symbol) [0x00CFC63B]\n\tBaseThreadInitThunk [0x76356BD9+25]\n\tRtlGetFullPathName_UEx [0x77588FD2+1218]\n\tRtlGetFullPathName_UEx [0x77588F9D+1165]\n",
     "output_type": "error",
     "traceback": [
      "\u001b[1;31m---------------------------------------------------------------------------\u001b[0m",
      "\u001b[1;31mStaleElementReferenceException\u001b[0m            Traceback (most recent call last)",
      "Cell \u001b[1;32mIn[6], line 2\u001b[0m\n\u001b[0;32m      1\u001b[0m \u001b[39mfor\u001b[39;00m i, image \u001b[39min\u001b[39;00m \u001b[39menumerate\u001b[39m(images):\n\u001b[1;32m----> 2\u001b[0m     image_url \u001b[39m=\u001b[39m image\u001b[39m.\u001b[39;49mget_attribute(\u001b[39m'\u001b[39;49m\u001b[39msrc\u001b[39;49m\u001b[39m'\u001b[39;49m)\n\u001b[0;32m      3\u001b[0m     \u001b[39mif\u001b[39;00m image_url[\u001b[39m-\u001b[39m\u001b[39m3\u001b[39m::]\u001b[39m==\u001b[39m\u001b[39m'\u001b[39m\u001b[39mjpg\u001b[39m\u001b[39m'\u001b[39m:\n\u001b[0;32m      4\u001b[0m         \u001b[39mprint\u001b[39m(image_url)\n",
      "File \u001b[1;32mc:\\Users\\ACER\\Documents\\GitHub\\fake_logo_detection\\venv\\lib\\site-packages\\selenium\\webdriver\\remote\\webelement.py:177\u001b[0m, in \u001b[0;36mWebElement.get_attribute\u001b[1;34m(self, name)\u001b[0m\n\u001b[0;32m    175\u001b[0m \u001b[39mif\u001b[39;00m getAttribute_js \u001b[39mis\u001b[39;00m \u001b[39mNone\u001b[39;00m:\n\u001b[0;32m    176\u001b[0m     _load_js()\n\u001b[1;32m--> 177\u001b[0m attribute_value \u001b[39m=\u001b[39m \u001b[39mself\u001b[39;49m\u001b[39m.\u001b[39;49mparent\u001b[39m.\u001b[39;49mexecute_script(\n\u001b[0;32m    178\u001b[0m     \u001b[39mf\u001b[39;49m\u001b[39m\"\u001b[39;49m\u001b[39m/* getAttribute */return (\u001b[39;49m\u001b[39m{\u001b[39;49;00mgetAttribute_js\u001b[39m}\u001b[39;49;00m\u001b[39m).apply(null, arguments);\u001b[39;49m\u001b[39m\"\u001b[39;49m, \u001b[39mself\u001b[39;49m, name\n\u001b[0;32m    179\u001b[0m )\n\u001b[0;32m    180\u001b[0m \u001b[39mreturn\u001b[39;00m attribute_value\n",
      "File \u001b[1;32mc:\\Users\\ACER\\Documents\\GitHub\\fake_logo_detection\\venv\\lib\\site-packages\\selenium\\webdriver\\remote\\webdriver.py:500\u001b[0m, in \u001b[0;36mWebDriver.execute_script\u001b[1;34m(self, script, *args)\u001b[0m\n\u001b[0;32m    497\u001b[0m converted_args \u001b[39m=\u001b[39m \u001b[39mlist\u001b[39m(args)\n\u001b[0;32m    498\u001b[0m command \u001b[39m=\u001b[39m Command\u001b[39m.\u001b[39mW3C_EXECUTE_SCRIPT\n\u001b[1;32m--> 500\u001b[0m \u001b[39mreturn\u001b[39;00m \u001b[39mself\u001b[39;49m\u001b[39m.\u001b[39;49mexecute(command, {\u001b[39m\"\u001b[39;49m\u001b[39mscript\u001b[39;49m\u001b[39m\"\u001b[39;49m: script, \u001b[39m\"\u001b[39;49m\u001b[39margs\u001b[39;49m\u001b[39m\"\u001b[39;49m: converted_args})[\u001b[39m\"\u001b[39m\u001b[39mvalue\u001b[39m\u001b[39m\"\u001b[39m]\n",
      "File \u001b[1;32mc:\\Users\\ACER\\Documents\\GitHub\\fake_logo_detection\\venv\\lib\\site-packages\\selenium\\webdriver\\remote\\webdriver.py:440\u001b[0m, in \u001b[0;36mWebDriver.execute\u001b[1;34m(self, driver_command, params)\u001b[0m\n\u001b[0;32m    438\u001b[0m response \u001b[39m=\u001b[39m \u001b[39mself\u001b[39m\u001b[39m.\u001b[39mcommand_executor\u001b[39m.\u001b[39mexecute(driver_command, params)\n\u001b[0;32m    439\u001b[0m \u001b[39mif\u001b[39;00m response:\n\u001b[1;32m--> 440\u001b[0m     \u001b[39mself\u001b[39;49m\u001b[39m.\u001b[39;49merror_handler\u001b[39m.\u001b[39;49mcheck_response(response)\n\u001b[0;32m    441\u001b[0m     response[\u001b[39m\"\u001b[39m\u001b[39mvalue\u001b[39m\u001b[39m\"\u001b[39m] \u001b[39m=\u001b[39m \u001b[39mself\u001b[39m\u001b[39m.\u001b[39m_unwrap_value(response\u001b[39m.\u001b[39mget(\u001b[39m\"\u001b[39m\u001b[39mvalue\u001b[39m\u001b[39m\"\u001b[39m, \u001b[39mNone\u001b[39;00m))\n\u001b[0;32m    442\u001b[0m     \u001b[39mreturn\u001b[39;00m response\n",
      "File \u001b[1;32mc:\\Users\\ACER\\Documents\\GitHub\\fake_logo_detection\\venv\\lib\\site-packages\\selenium\\webdriver\\remote\\errorhandler.py:245\u001b[0m, in \u001b[0;36mErrorHandler.check_response\u001b[1;34m(self, response)\u001b[0m\n\u001b[0;32m    243\u001b[0m         alert_text \u001b[39m=\u001b[39m value[\u001b[39m\"\u001b[39m\u001b[39malert\u001b[39m\u001b[39m\"\u001b[39m]\u001b[39m.\u001b[39mget(\u001b[39m\"\u001b[39m\u001b[39mtext\u001b[39m\u001b[39m\"\u001b[39m)\n\u001b[0;32m    244\u001b[0m     \u001b[39mraise\u001b[39;00m exception_class(message, screen, stacktrace, alert_text)  \u001b[39m# type: ignore[call-arg]  # mypy is not smart enough here\u001b[39;00m\n\u001b[1;32m--> 245\u001b[0m \u001b[39mraise\u001b[39;00m exception_class(message, screen, stacktrace)\n",
      "\u001b[1;31mStaleElementReferenceException\u001b[0m: Message: stale element reference: element is not attached to the page document\n  (Session info: chrome=111.0.5563.65)\nStacktrace:\nBacktrace:\n\t(No symbol) [0x00D4DCE3]\n\t(No symbol) [0x00CE39D1]\n\t(No symbol) [0x00BF4DA8]\n\t(No symbol) [0x00BF76FB]\n\t(No symbol) [0x00BF75D0]\n\t(No symbol) [0x00BF7EB0]\n\t(No symbol) [0x00C4DEED]\n\t(No symbol) [0x00C3AECC]\n\t(No symbol) [0x00C4D57C]\n\t(No symbol) [0x00C3ACC6]\n\t(No symbol) [0x00C16F68]\n\t(No symbol) [0x00C180CD]\n\tGetHandleVerifier [0x00FC3832+2506274]\n\tGetHandleVerifier [0x00FF9794+2727300]\n\tGetHandleVerifier [0x00FFE36C+2746716]\n\tGetHandleVerifier [0x00DF6690+617600]\n\t(No symbol) [0x00CEC712]\n\t(No symbol) [0x00CF1FF8]\n\t(No symbol) [0x00CF20DB]\n\t(No symbol) [0x00CFC63B]\n\tBaseThreadInitThunk [0x76356BD9+25]\n\tRtlGetFullPathName_UEx [0x77588FD2+1218]\n\tRtlGetFullPathName_UEx [0x77588F9D+1165]\n"
     ]
    }
   ],
   "source": [
    "for i, image in enumerate(images):\n",
    "    image_url = image.get_attribute('src')\n",
    "    if image_url[-3::]=='jpg':\n",
    "        print(image_url)\n",
    "        filename = os.path.join(directory, f\"image_{i}.jpg\")\n",
    "        urllib.request.urlretrieve(image_url, filename)"
   ]
  }
 ],
 "metadata": {
  "kernelspec": {
   "display_name": "venv",
   "language": "python",
   "name": "python3"
  },
  "language_info": {
   "codemirror_mode": {
    "name": "ipython",
    "version": 3
   },
   "file_extension": ".py",
   "mimetype": "text/x-python",
   "name": "python",
   "nbconvert_exporter": "python",
   "pygments_lexer": "ipython3",
   "version": "3.10.10"
  },
  "orig_nbformat": 4
 },
 "nbformat": 4,
 "nbformat_minor": 2
}
