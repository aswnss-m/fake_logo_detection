{
 "cells": [
  {
   "cell_type": "code",
   "execution_count": 15,
   "metadata": {},
   "outputs": [],
   "source": [
    "from selenium import webdriver\n",
    "from selenium.webdriver.common.by import By\n",
    "import urllib.request\n",
    "import os"
   ]
  },
  {
   "cell_type": "code",
   "execution_count": 16,
   "metadata": {},
   "outputs": [],
   "source": [
    "url = \"https://branddb.wipo.int/en/explore/results\"\n",
    "directory = \"./webscrapped\"\n"
   ]
  },
  {
   "cell_type": "code",
   "execution_count": 17,
   "metadata": {},
   "outputs": [],
   "source": [
    "driver = webdriver.Chrome()\n",
    "driver.get(url)"
   ]
  },
  {
   "cell_type": "code",
   "execution_count": 21,
   "metadata": {},
   "outputs": [
    {
     "name": "stdout",
     "output_type": "stream",
     "text": [
      "[<selenium.webdriver.remote.webelement.WebElement (session=\"228b49504f2e44e8617b63263f18b846\", element=\"bf5b0177-1308-4ef8-af12-d158eb1c2475\")>, <selenium.webdriver.remote.webelement.WebElement (session=\"228b49504f2e44e8617b63263f18b846\", element=\"e4e50506-555e-421e-8fb9-2e92dbf173eb\")>, <selenium.webdriver.remote.webelement.WebElement (session=\"228b49504f2e44e8617b63263f18b846\", element=\"9f3e1c63-fa6b-4d9f-8ed5-6e1da52f2203\")>, <selenium.webdriver.remote.webelement.WebElement (session=\"228b49504f2e44e8617b63263f18b846\", element=\"0941500b-0c5c-412e-8bfb-6618c36d4f0f\")>, <selenium.webdriver.remote.webelement.WebElement (session=\"228b49504f2e44e8617b63263f18b846\", element=\"60a0a230-c33d-42a9-b838-8829b97b6a3a\")>, <selenium.webdriver.remote.webelement.WebElement (session=\"228b49504f2e44e8617b63263f18b846\", element=\"ee965143-2155-40b6-99a5-93360e05e732\")>]\n"
     ]
    }
   ],
   "source": [
    "images = driver.find_elements(By.TAG_NAME,'img')\n",
    "print(images)"
   ]
  },
  {
   "cell_type": "code",
   "execution_count": 25,
   "metadata": {},
   "outputs": [
    {
     "name": "stdout",
     "output_type": "stream",
     "text": [
      "\n",
      "https://branddb.wipo.int/assets/images/status/Registered.svg\n",
      "https://images.branddb.wipo.int/brands/natm/NA5019990000T1571/1AC71CA5-th.jpg\n",
      "https://branddb.wipo.int/assets/images/status/Registered.svg\n",
      "https://images.branddb.wipo.int/brands/ghtm/GH501955000000026/12D27813-th.jpg\n",
      "https://branddb.wipo.int/assets/images/status/Registered.svg\n"
     ]
    }
   ],
   "source": [
    "for i, image in enumerate(images):\n",
    "    image_url = image.get_attribute('src')\n",
    "    if image_url[:4]=='http':\n",
    "        print(image_url)\n",
    "        filename = os.path.join(directory, f\"image_{i}.jpg\")\n",
    "        urllib.request.urlretrieve(image_url, filename)"
   ]
  }
 ],
 "metadata": {
  "kernelspec": {
   "display_name": "venv",
   "language": "python",
   "name": "python3"
  },
  "language_info": {
   "codemirror_mode": {
    "name": "ipython",
    "version": 3
   },
   "file_extension": ".py",
   "mimetype": "text/x-python",
   "name": "python",
   "nbconvert_exporter": "python",
   "pygments_lexer": "ipython3",
   "version": "3.10.10"
  },
  "orig_nbformat": 4
 },
 "nbformat": 4,
 "nbformat_minor": 2
}
